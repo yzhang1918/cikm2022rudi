{
 "cells": [
  {
   "cell_type": "code",
   "execution_count": 1,
   "id": "9c494430",
   "metadata": {},
   "outputs": [],
   "source": [
    "import pandas as pd\n",
    "import numpy as np\n",
    "from sklearn.preprocessing import OrdinalEncoder\n",
    "\n",
    "import tqdm\n",
    "import pathlib\n",
    "\n",
    "from matplotlib import pyplot as plt\n",
    "import seaborn as sns\n",
    "%matplotlib inline"
   ]
  },
  {
   "cell_type": "code",
   "execution_count": 2,
   "id": "72bb38d6",
   "metadata": {},
   "outputs": [],
   "source": [
    "normal_data = open('vews/normal_user_patterns_new.csv').read().strip().split('\\n')\n",
    "vandal_data = open('vews/vandal_user_patterns_new.csv').read().strip().split('\\n')"
   ]
  },
  {
   "cell_type": "code",
   "execution_count": 3,
   "id": "bef35fc8",
   "metadata": {},
   "outputs": [
    {
     "name": "stdout",
     "output_type": "stream",
     "text": [
      "16549 17027\n"
     ]
    }
   ],
   "source": [
    "print(len(normal_data), len(vandal_data))"
   ]
  },
  {
   "cell_type": "code",
   "execution_count": 4,
   "id": "8b3cc7a5",
   "metadata": {},
   "outputs": [],
   "source": [
    "columns = 'type meta consecutive reversion threehop common fast'.split()"
   ]
  },
  {
   "cell_type": "code",
   "execution_count": 5,
   "id": "c7b85dc2",
   "metadata": {},
   "outputs": [],
   "source": [
    "categories = [list(s) for s in'frn mn cnx rnx tmNx zoux vfsx'.split()]\n",
    "categories2id = {name: {v: i for i, v in enumerate(vocab)} for vocab, name in zip(categories, columns)}"
   ]
  },
  {
   "cell_type": "code",
   "execution_count": 6,
   "id": "baa61937",
   "metadata": {},
   "outputs": [],
   "source": [
    "def parse_action(actions):\n",
    "    all_data = []\n",
    "    for s in actions:\n",
    "        data = {}\n",
    "        data['type'] = s[0]\n",
    "        data['meta'] = s[1]\n",
    "        if s[0] == 'f':  # first\n",
    "            assert len(s) == 2\n",
    "        elif s[0] == 'r':  # re-edit\n",
    "            assert len(s) == 5\n",
    "            data['consecutive']= s[2]\n",
    "            data['reversion'] = s[3]\n",
    "            data['fast'] = s[4]\n",
    "        elif s[0] == 'n':  # new\n",
    "            assert len(s) == 5\n",
    "            data['threehop']= s[2]\n",
    "            data['common'] = s[3]\n",
    "            data['fast'] = s[4]\n",
    "        all_data.append(data)\n",
    "    df = pd.DataFrame(all_data, columns=columns).fillna('x')\n",
    "    for col in columns:\n",
    "        df[col] = df[col].apply(lambda x: categories2id[col][x])\n",
    "    return df"
   ]
  },
  {
   "cell_type": "code",
   "execution_count": 7,
   "id": "d35afbd0",
   "metadata": {},
   "outputs": [],
   "source": [
    "path = pathlib.Path('vews_all')\n",
    "record_path = path / 'records'\n",
    "record_path.mkdir(exist_ok=True, parents=True)"
   ]
  },
  {
   "cell_type": "code",
   "execution_count": 8,
   "id": "11392327",
   "metadata": {},
   "outputs": [
    {
     "name": "stderr",
     "output_type": "stream",
     "text": [
      "16549it [00:26, 614.38it/s]\n",
      "17027it [00:26, 636.95it/s]\n"
     ]
    }
   ],
   "source": [
    "for i, line in tqdm.tqdm(enumerate(normal_data)):\n",
    "    df = parse_action(line.split(','))\n",
    "    df.to_csv(record_path / f'normal{i}.csv', header=True, index=False)\n",
    "    \n",
    "for i, line in tqdm.tqdm(enumerate(vandal_data)):\n",
    "    df = parse_action(line.split(','))\n",
    "    df.to_csv(record_path / f'vandal{i}.csv', header=True, index=False)"
   ]
  },
  {
   "cell_type": "markdown",
   "id": "fe29f1c8",
   "metadata": {},
   "source": [
    "Save info files"
   ]
  },
  {
   "cell_type": "code",
   "execution_count": 9,
   "id": "76f9fc3a",
   "metadata": {},
   "outputs": [],
   "source": [
    "lines = [name + ',' + ','.join([str(x) for x in cats]) for name, cats in zip(columns, categories)]\n",
    "with open(path / 'categories.txt', 'w') as fh:\n",
    "    fh.write('\\n'.join(lines))"
   ]
  },
  {
   "cell_type": "code",
   "execution_count": 10,
   "id": "b45fb8eb",
   "metadata": {},
   "outputs": [],
   "source": [
    "lines = [[col, 'cat', len(vocab)] for col, vocab in zip(columns, categories)]\n",
    "df_info = pd.DataFrame(lines)\n",
    "df_info.to_csv(path / 'info.csv', header=None, index=False)"
   ]
  },
  {
   "cell_type": "markdown",
   "id": "ba05d760",
   "metadata": {},
   "source": [
    "Save groundtruth"
   ]
  },
  {
   "cell_type": "code",
   "execution_count": 11,
   "id": "6e38b498",
   "metadata": {},
   "outputs": [],
   "source": [
    "normal_data = pd.Series(np.zeros(len(normal_data)), index=[f'normal{i}' for i in range(len(normal_data))])\n",
    "vandal_data = pd.Series(np.ones(len(vandal_data)), index=[f'vandal{i}' for i in range(len(vandal_data))])\n",
    "\n",
    "groundtruth = pd.concat([normal_data, vandal_data], 0).astype(int)\n",
    "\n",
    "groundtruth.to_csv(path / 'groundtruth.csv', header=None, index=True)"
   ]
  },
  {
   "cell_type": "code",
   "execution_count": 12,
   "id": "eb7f52af",
   "metadata": {},
   "outputs": [
    {
     "data": {
      "text/plain": [
       "0.5071181796521325"
      ]
     },
     "execution_count": 12,
     "metadata": {},
     "output_type": "execute_result"
    }
   ],
   "source": [
    "groundtruth.mean()"
   ]
  }
 ],
 "metadata": {
  "kernelspec": {
   "display_name": "Python 3 (ipykernel)",
   "language": "python",
   "name": "python3"
  },
  "language_info": {
   "codemirror_mode": {
    "name": "ipython",
    "version": 3
   },
   "file_extension": ".py",
   "mimetype": "text/x-python",
   "name": "python",
   "nbconvert_exporter": "python",
   "pygments_lexer": "ipython3",
   "version": "3.8.8"
  }
 },
 "nbformat": 4,
 "nbformat_minor": 5
}
