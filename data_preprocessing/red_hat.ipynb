{
 "cells": [
  {
   "cell_type": "code",
   "execution_count": 1,
   "id": "7446907b",
   "metadata": {},
   "outputs": [],
   "source": [
    "import pandas as pd\n",
    "import numpy as np\n",
    "from sklearn.preprocessing import OrdinalEncoder\n",
    "\n",
    "import tqdm\n",
    "import pathlib\n",
    "\n",
    "from matplotlib import pyplot as plt\n",
    "%matplotlib inline"
   ]
  },
  {
   "cell_type": "code",
   "execution_count": 2,
   "id": "eafa82e8",
   "metadata": {},
   "outputs": [
    {
     "name": "stdout",
     "output_type": "stream",
     "text": [
      "(189118, 41) (2197291, 15)\n"
     ]
    }
   ],
   "source": [
    "df_people = pd.read_csv('red_hat/people.csv')\n",
    "df_act = pd.read_csv('red_hat/act_train.csv')\n",
    "print(df_people.shape, df_act.shape)"
   ]
  },
  {
   "cell_type": "markdown",
   "id": "1b22fb8c",
   "metadata": {},
   "source": [
    "Filter people whose outcomes have both 1 and 0."
   ]
  },
  {
   "cell_type": "code",
   "execution_count": 3,
   "id": "f67b9b08",
   "metadata": {},
   "outputs": [
    {
     "name": "stdout",
     "output_type": "stream",
     "text": [
      "(189118, 41) (1889213, 15)\n"
     ]
    }
   ],
   "source": [
    "outcom_one = df_act[df_act['outcome'] == 1].people_id.unique()\n",
    "outcom_zero = df_act[df_act['outcome'] == 0].people_id.unique()\n",
    "outcom_one = set(outcom_one)\n",
    "outcom_zero = set(outcom_zero)\n",
    "outcom_0_1 = outcom_one & outcom_zero\n",
    "keep_people = (outcom_one | outcom_zero) - (outcom_one & outcom_zero)\n",
    "# df_people = df_people[df_people.people_id.isin(keep_people)]\n",
    "df_act = df_act[df_act.people_id.isin(keep_people)]\n",
    "print(df_people.shape, df_act.shape)"
   ]
  },
  {
   "cell_type": "markdown",
   "id": "82d11009",
   "metadata": {},
   "source": [
    "Encode the top-k frequent categorical features."
   ]
  },
  {
   "cell_type": "code",
   "execution_count": 4,
   "id": "67c9497e",
   "metadata": {},
   "outputs": [],
   "source": [
    "k = 10\n",
    "categories = []\n",
    "for i in range(3, 14):\n",
    "    col = df_act.iloc[:, i]\n",
    "    vcounts = col.value_counts().index.tolist()[:k]\n",
    "    if col.isnull().any():\n",
    "        vcounts.append('__NAN__')\n",
    "    categories.append(vcounts)\n",
    "\n",
    "df_act_filled = df_act.fillna('__NAN__')"
   ]
  },
  {
   "cell_type": "code",
   "execution_count": 5,
   "id": "76162b44",
   "metadata": {},
   "outputs": [],
   "source": [
    "encoder = OrdinalEncoder(categories=categories, dtype=int, handle_unknown='use_encoded_value', unknown_value=-1)\n",
    "encoded_arr = encoder.fit_transform(df_act_filled.iloc[:, 3:14])\n",
    "\n",
    "df_act_filled.iloc[:, 3:14] = encoded_arr + 1"
   ]
  },
  {
   "cell_type": "markdown",
   "id": "ccc76b57",
   "metadata": {},
   "source": [
    "Encode date"
   ]
  },
  {
   "cell_type": "code",
   "execution_count": 6,
   "id": "edcd8ca1",
   "metadata": {},
   "outputs": [],
   "source": [
    "date = pd.to_datetime(df_act_filled.date)\n",
    "delta = (date - date.min())\n",
    "df_act_filled.date = delta.dt.days"
   ]
  },
  {
   "cell_type": "markdown",
   "id": "aa22b29a",
   "metadata": {},
   "source": [
    "Drop column"
   ]
  },
  {
   "cell_type": "code",
   "execution_count": 7,
   "id": "da4a0148",
   "metadata": {},
   "outputs": [],
   "source": [
    "df_act_filled.drop('activity_id', axis=1, inplace=True)"
   ]
  },
  {
   "cell_type": "markdown",
   "id": "50b5244c",
   "metadata": {},
   "source": [
    "Groupby and Save"
   ]
  },
  {
   "cell_type": "code",
   "execution_count": 8,
   "id": "4c85f7f4",
   "metadata": {},
   "outputs": [],
   "source": [
    "path = pathlib.Path(f'red_hat/red_hat_{k}')\n",
    "path.mkdir(exist_ok=True)\n",
    "record_path = path / 'records'\n",
    "record_path.mkdir(exist_ok=True)"
   ]
  },
  {
   "cell_type": "code",
   "execution_count": 9,
   "id": "404ea3a3",
   "metadata": {},
   "outputs": [
    {
     "name": "stderr",
     "output_type": "stream",
     "text": [
      "100%|█████████████████████████████████████████████████████████████████████████| 144639/144639 [00:54<00:00, 2646.93it/s]\n"
     ]
    }
   ],
   "source": [
    "outcomes = {}\n",
    "for uid, subdf in tqdm.tqdm(df_act_filled.groupby('people_id')):\n",
    "    outcomes[uid] = subdf.outcome.iloc[0]\n",
    "    subdf = subdf.iloc[:, 1:-1]\n",
    "    subdf.to_csv(record_path / f'{uid}.csv', header=True, index=False)"
   ]
  },
  {
   "cell_type": "markdown",
   "id": "273b0cfd",
   "metadata": {},
   "source": [
    "Save outcomes (groudtruth)"
   ]
  },
  {
   "cell_type": "code",
   "execution_count": 10,
   "id": "df076d4f",
   "metadata": {},
   "outputs": [],
   "source": [
    "outcomes = pd.Series(outcomes)"
   ]
  },
  {
   "cell_type": "code",
   "execution_count": 11,
   "id": "e32ce8dd",
   "metadata": {},
   "outputs": [],
   "source": [
    "outcomes.to_csv(path / 'groundtruth.csv', header=None, index=True)"
   ]
  },
  {
   "cell_type": "markdown",
   "id": "b5e86877",
   "metadata": {},
   "source": [
    "Save infos"
   ]
  },
  {
   "cell_type": "code",
   "execution_count": 15,
   "id": "4b5812ac",
   "metadata": {},
   "outputs": [],
   "source": [
    "nuniques = df_act_filled.max().iloc[2:-1] + 1\n",
    "# assert (nuniques == (df_act_filled.max().iloc[2:-1] + 1)).all()"
   ]
  },
  {
   "cell_type": "code",
   "execution_count": 16,
   "id": "aa2a1efa",
   "metadata": {},
   "outputs": [],
   "source": [
    "lines = [['date', 'num', '']] + [[col, 'cat', k] for col, k in nuniques.iteritems()]\n",
    "\n",
    "df_info = pd.DataFrame(lines)\n",
    "df_info.to_csv(path / 'info.csv', header=None, index=False)"
   ]
  },
  {
   "cell_type": "markdown",
   "id": "01989c45",
   "metadata": {},
   "source": [
    "Save categories"
   ]
  },
  {
   "cell_type": "code",
   "execution_count": 17,
   "id": "656d076d",
   "metadata": {},
   "outputs": [],
   "source": [
    "lines = [name + ',' + ','.join(cats) for name, cats in zip(encoder.feature_names_in_, encoder.categories_)]"
   ]
  },
  {
   "cell_type": "code",
   "execution_count": 18,
   "id": "95ceb056",
   "metadata": {},
   "outputs": [],
   "source": [
    "with open(path / 'categories.txt', 'w') as fh:\n",
    "    fh.write('\\n'.join(lines))"
   ]
  }
 ],
 "metadata": {
  "kernelspec": {
   "display_name": "Python 3 (ipykernel)",
   "language": "python",
   "name": "python3"
  },
  "language_info": {
   "codemirror_mode": {
    "name": "ipython",
    "version": 3
   },
   "file_extension": ".py",
   "mimetype": "text/x-python",
   "name": "python",
   "nbconvert_exporter": "python",
   "pygments_lexer": "ipython3",
   "version": "3.8.8"
  }
 },
 "nbformat": 4,
 "nbformat_minor": 5
}
