{
 "cells": [
  {
   "cell_type": "code",
   "execution_count": 1,
   "id": "c5a8cc28",
   "metadata": {},
   "outputs": [],
   "source": [
    "import pandas as pd\n",
    "import numpy as np\n",
    "from sklearn.preprocessing import OrdinalEncoder\n",
    "\n",
    "import tqdm\n",
    "import pathlib\n",
    "\n",
    "from matplotlib import pyplot as plt\n",
    "import seaborn as sns\n",
    "%matplotlib inline"
   ]
  },
  {
   "cell_type": "code",
   "execution_count": 2,
   "id": "bb7b68a6",
   "metadata": {},
   "outputs": [],
   "source": [
    "# df_new = pd.read_csv('elo/new_merchant_transactions.csv')\n",
    "df_card = pd.read_csv('elo/train.csv')"
   ]
  },
  {
   "cell_type": "code",
   "execution_count": 3,
   "id": "7e0d9d81",
   "metadata": {},
   "outputs": [
    {
     "data": {
      "text/html": [
       "<div>\n",
       "<style scoped>\n",
       "    .dataframe tbody tr th:only-of-type {\n",
       "        vertical-align: middle;\n",
       "    }\n",
       "\n",
       "    .dataframe tbody tr th {\n",
       "        vertical-align: top;\n",
       "    }\n",
       "\n",
       "    .dataframe thead th {\n",
       "        text-align: right;\n",
       "    }\n",
       "</style>\n",
       "<table border=\"1\" class=\"dataframe\">\n",
       "  <thead>\n",
       "    <tr style=\"text-align: right;\">\n",
       "      <th></th>\n",
       "      <th>first_active_month</th>\n",
       "      <th>card_id</th>\n",
       "      <th>feature_1</th>\n",
       "      <th>feature_2</th>\n",
       "      <th>feature_3</th>\n",
       "      <th>target</th>\n",
       "    </tr>\n",
       "  </thead>\n",
       "  <tbody>\n",
       "    <tr>\n",
       "      <th>0</th>\n",
       "      <td>2017-06</td>\n",
       "      <td>C_ID_92a2005557</td>\n",
       "      <td>5</td>\n",
       "      <td>2</td>\n",
       "      <td>1</td>\n",
       "      <td>-0.820283</td>\n",
       "    </tr>\n",
       "    <tr>\n",
       "      <th>1</th>\n",
       "      <td>2017-01</td>\n",
       "      <td>C_ID_3d0044924f</td>\n",
       "      <td>4</td>\n",
       "      <td>1</td>\n",
       "      <td>0</td>\n",
       "      <td>0.392913</td>\n",
       "    </tr>\n",
       "    <tr>\n",
       "      <th>2</th>\n",
       "      <td>2016-08</td>\n",
       "      <td>C_ID_d639edf6cd</td>\n",
       "      <td>2</td>\n",
       "      <td>2</td>\n",
       "      <td>0</td>\n",
       "      <td>0.688056</td>\n",
       "    </tr>\n",
       "    <tr>\n",
       "      <th>3</th>\n",
       "      <td>2017-09</td>\n",
       "      <td>C_ID_186d6a6901</td>\n",
       "      <td>4</td>\n",
       "      <td>3</td>\n",
       "      <td>0</td>\n",
       "      <td>0.142495</td>\n",
       "    </tr>\n",
       "    <tr>\n",
       "      <th>4</th>\n",
       "      <td>2017-11</td>\n",
       "      <td>C_ID_cdbd2c0db2</td>\n",
       "      <td>1</td>\n",
       "      <td>3</td>\n",
       "      <td>0</td>\n",
       "      <td>-0.159749</td>\n",
       "    </tr>\n",
       "  </tbody>\n",
       "</table>\n",
       "</div>"
      ],
      "text/plain": [
       "  first_active_month          card_id  feature_1  feature_2  feature_3  \\\n",
       "0            2017-06  C_ID_92a2005557          5          2          1   \n",
       "1            2017-01  C_ID_3d0044924f          4          1          0   \n",
       "2            2016-08  C_ID_d639edf6cd          2          2          0   \n",
       "3            2017-09  C_ID_186d6a6901          4          3          0   \n",
       "4            2017-11  C_ID_cdbd2c0db2          1          3          0   \n",
       "\n",
       "     target  \n",
       "0 -0.820283  \n",
       "1  0.392913  \n",
       "2  0.688056  \n",
       "3  0.142495  \n",
       "4 -0.159749  "
      ]
     },
     "execution_count": 3,
     "metadata": {},
     "output_type": "execute_result"
    }
   ],
   "source": [
    "df_card.head()"
   ]
  },
  {
   "cell_type": "code",
   "execution_count": 4,
   "id": "6c111d1d",
   "metadata": {},
   "outputs": [
    {
     "name": "stdout",
     "output_type": "stream",
     "text": [
      "201917\n"
     ]
    }
   ],
   "source": [
    "valid_ids = set(df_card.card_id)\n",
    "print(len(valid_ids))"
   ]
  },
  {
   "cell_type": "code",
   "execution_count": 5,
   "id": "d556d885",
   "metadata": {},
   "outputs": [],
   "source": [
    "pk = 'card_id'\n",
    "cat_cols = ['authorized_flag', 'city_id', 'category_1', \n",
    "            'installments', 'category_3', 'merchant_category_id', \n",
    "            'merchant_id', 'month_lag', 'category_2', 'state_id', 'subsector_id']\n",
    "dat_cols = ['purchase_date']\n",
    "num_cols = ['purchase_amount']"
   ]
  },
  {
   "cell_type": "markdown",
   "id": "1c81d50e",
   "metadata": {},
   "source": [
    "Count values of categorical features & log minimum timestamp"
   ]
  },
  {
   "cell_type": "code",
   "execution_count": 6,
   "id": "ef88ac74",
   "metadata": {},
   "outputs": [],
   "source": [
    "value_counts = {col: pd.Series(dtype=int) for col in cat_cols}\n",
    "\n",
    "min_time = None"
   ]
  },
  {
   "cell_type": "markdown",
   "id": "12eec994",
   "metadata": {},
   "source": [
    "new transactions"
   ]
  },
  {
   "cell_type": "code",
   "execution_count": 8,
   "id": "27531777",
   "metadata": {},
   "outputs": [
    {
     "name": "stderr",
     "output_type": "stream",
     "text": [
      "100%|███████████████████████████████████████████████████████████████████████████████████| 40/40 [00:07<00:00,  5.33it/s]"
     ]
    },
    {
     "name": "stdout",
     "output_type": "stream",
     "text": [
      "2017-03-01 03:24:51\n"
     ]
    },
    {
     "name": "stderr",
     "output_type": "stream",
     "text": [
      "\n"
     ]
    }
   ],
   "source": [
    "cs = 50000\n",
    "df_new_iter = pd.read_csv('elo/new_merchant_transactions.csv', chunksize=cs)\n",
    "for chunk in tqdm.tqdm(df_new_iter, total=1963031//cs+1):\n",
    "    chunk = chunk[chunk[pk].isin(valid_ids)]\n",
    "    min_time = min(min_time, chunk[dat_cols[0]].min()) if min_time is not None else chunk[dat_cols[0]].min()\n",
    "    for col in cat_cols:\n",
    "        s = chunk[col].value_counts()\n",
    "        value_counts[col] = value_counts[col].add(s, fill_value=0)\n",
    "print(min_time)"
   ]
  },
  {
   "cell_type": "markdown",
   "id": "a3a95130",
   "metadata": {},
   "source": [
    "historical transactions (Large, read by chunk)"
   ]
  },
  {
   "cell_type": "code",
   "execution_count": 9,
   "id": "6ca359dc",
   "metadata": {},
   "outputs": [
    {
     "name": "stderr",
     "output_type": "stream",
     "text": [
      "100%|█████████████████████████████████████████████████████████████████████████████████| 583/583 [02:53<00:00,  3.35it/s]\n"
     ]
    }
   ],
   "source": [
    "cs = 50000\n",
    "df_hist_iter = pd.read_csv('elo/historical_transactions.csv', chunksize=cs)\n",
    "for chunk in tqdm.tqdm(df_hist_iter, total=29112362//cs+1):\n",
    "    chunk = chunk[chunk[pk].isin(valid_ids)]\n",
    "    min_time = min(min_time, chunk[dat_cols[0]].min())\n",
    "    for col in cat_cols:\n",
    "        s = chunk[col].value_counts()\n",
    "        value_counts[col] = value_counts[col].add(s, fill_value=0)"
   ]
  },
  {
   "cell_type": "code",
   "execution_count": 10,
   "id": "4dcfa5b1",
   "metadata": {},
   "outputs": [],
   "source": [
    "value_counts = {k: v.sort_values(ascending=False) for k, v in value_counts.items()}"
   ]
  },
  {
   "cell_type": "markdown",
   "id": "9f7569e6",
   "metadata": {},
   "source": [
    "top-k"
   ]
  },
  {
   "cell_type": "code",
   "execution_count": 11,
   "id": "652b1f6d",
   "metadata": {},
   "outputs": [
    {
     "name": "stdout",
     "output_type": "stream",
     "text": [
      "19249694.0\n"
     ]
    }
   ],
   "source": [
    "n_total = max(x.sum() for x in value_counts.values())\n",
    "print(n_total)"
   ]
  },
  {
   "cell_type": "code",
   "execution_count": 14,
   "id": "4859eb7d",
   "metadata": {},
   "outputs": [],
   "source": [
    "k = 10\n",
    "\n",
    "path = pathlib.Path(f'elo_{k}')\n",
    "record_path = path / 'records'\n",
    "record_path.mkdir(exist_ok=True, parents=True)"
   ]
  },
  {
   "cell_type": "code",
   "execution_count": 15,
   "id": "8c4efb17",
   "metadata": {},
   "outputs": [
    {
     "name": "stdout",
     "output_type": "stream",
     "text": [
      "authorized_flag:\t1.0000\n",
      "city_id:\t0.4688\n",
      "category_1:\t1.0000\n",
      "installments:\t0.9987\n",
      "category_3:\t1.0000\n",
      "merchant_category_id:\t0.6411\n",
      "merchant_id:\t0.0945\n",
      "month_lag:\t0.8222\n",
      "category_2:\t1.0000\n",
      "state_id:\t0.8296\n",
      "subsector_id:\t0.8349\n"
     ]
    }
   ],
   "source": [
    "# n_total = max(x.sum() for x in value_counts.values())\n",
    "for name, x in value_counts.items():\n",
    "    print('{:s}:\\t{:.4f}'.format(name, x.head(k).sum() / x.sum()))"
   ]
  },
  {
   "cell_type": "markdown",
   "id": "dce3f91f",
   "metadata": {},
   "source": [
    "set-up encoder"
   ]
  },
  {
   "cell_type": "code",
   "execution_count": 16,
   "id": "fd205805",
   "metadata": {},
   "outputs": [],
   "source": [
    "categories = []\n",
    "for name in cat_cols:\n",
    "    vcounts = value_counts[name]\n",
    "    vocab = vcounts.index.tolist()[:k]\n",
    "    if vcounts.sum() < n_total:\n",
    "        vocab.append('__NAN__')\n",
    "    categories.append(vocab)"
   ]
  },
  {
   "cell_type": "markdown",
   "id": "b08ea0bf",
   "metadata": {},
   "source": [
    "0: Others, k+1: NaN"
   ]
  },
  {
   "cell_type": "code",
   "execution_count": 17,
   "id": "2f3cef42",
   "metadata": {},
   "outputs": [],
   "source": [
    "def encode(data, categories):\n",
    "    mapped = []\n",
    "    for i, vocab in enumerate(categories):\n",
    "        mapping = {v: j for j, v in enumerate(vocab)}\n",
    "        mapped.append([mapping.get(v, -1) for v in data[:, i]])\n",
    "    mapped = np.asarray(mapped).T + 1\n",
    "    return mapped"
   ]
  },
  {
   "cell_type": "markdown",
   "id": "4a010be4",
   "metadata": {},
   "source": [
    "Encode and save."
   ]
  },
  {
   "cell_type": "code",
   "execution_count": 21,
   "id": "bb434450",
   "metadata": {},
   "outputs": [],
   "source": [
    "openfiles = set()"
   ]
  },
  {
   "cell_type": "code",
   "execution_count": 22,
   "id": "505571b2",
   "metadata": {},
   "outputs": [],
   "source": [
    "def process_df(df, usetqdm, new):\n",
    "    mtime = pd.to_datetime(min_time)\n",
    "    if usetqdm:\n",
    "        it = tqdm.tqdm(df.groupby(pk))\n",
    "    else:\n",
    "        it = df.groupby(pk)\n",
    "    for uid, subdf in it:\n",
    "        if uid not in valid_ids:\n",
    "            continue\n",
    "        subdf = subdf.fillna('__NAN__')\n",
    "        subdf.drop(pk, 1, inplace=True)\n",
    "        subdf['new'] = new\n",
    "        subdf[cat_cols] = encode(subdf[cat_cols].values, categories)\n",
    "        delta_t = (pd.to_datetime(subdf['purchase_date']) - mtime)\n",
    "        subdf['purchase_date'] = delta_t.dt.total_seconds() / 86400\n",
    "        if uid in openfiles:  # no header\n",
    "            with open(record_path / f'{uid}.csv', 'a') as fh:\n",
    "                subdf.to_csv(fh, header=False, index=False)\n",
    "        else:\n",
    "            openfiles.add(uid)\n",
    "            with open(record_path / f'{uid}.csv', 'x') as fh:\n",
    "                subdf.to_csv(fh, header=True, index=False)"
   ]
  },
  {
   "cell_type": "code",
   "execution_count": 23,
   "id": "ccfe1358",
   "metadata": {},
   "outputs": [
    {
     "name": "stderr",
     "output_type": "stream",
     "text": [
      "100%|███████████████████████████████████████████████████████████████████████████████████| 40/40 [06:51<00:00, 10.29s/it]\n"
     ]
    }
   ],
   "source": [
    "cs = 50000\n",
    "df_new_iter = pd.read_csv('elo/new_merchant_transactions.csv', chunksize=cs)\n",
    "for chunk in tqdm.tqdm(df_new_iter, total=1963031//cs+1):\n",
    "    chunk = chunk[chunk[pk].isin(valid_ids)]\n",
    "    process_df(chunk, False, new=1)"
   ]
  },
  {
   "cell_type": "code",
   "execution_count": 24,
   "id": "8c597cdb",
   "metadata": {},
   "outputs": [
    {
     "name": "stderr",
     "output_type": "stream",
     "text": [
      "100%|█████████████████████████████████████████████████████████████████████████████████| 583/583 [10:50<00:00,  1.12s/it]\n"
     ]
    }
   ],
   "source": [
    "cs = 50000\n",
    "df_hist_iter = pd.read_csv('elo/historical_transactions.csv', chunksize=cs)\n",
    "for chunk in tqdm.tqdm(df_hist_iter, total=29112362//cs+1):\n",
    "    chunk = chunk[chunk[pk].isin(valid_ids)]\n",
    "    process_df(chunk, False, new=0)"
   ]
  },
  {
   "cell_type": "markdown",
   "id": "70246ff2",
   "metadata": {},
   "source": [
    "Check saved records"
   ]
  },
  {
   "cell_type": "code",
   "execution_count": 26,
   "id": "ed789b2b",
   "metadata": {},
   "outputs": [
    {
     "data": {
      "text/plain": [
       "201917"
      ]
     },
     "execution_count": 26,
     "metadata": {},
     "output_type": "execute_result"
    }
   ],
   "source": [
    "len(openfiles)"
   ]
  },
  {
   "cell_type": "code",
   "execution_count": 28,
   "id": "e3e6e395",
   "metadata": {},
   "outputs": [],
   "source": [
    "import mmap\n",
    "def mapcount(filename):\n",
    "    f = open(filename, \"r+\")\n",
    "    buf = mmap.mmap(f.fileno(), 0)\n",
    "    lines = 0\n",
    "    readline = buf.readline\n",
    "    while readline():\n",
    "        lines += 1\n",
    "    return lines"
   ]
  },
  {
   "cell_type": "code",
   "execution_count": 31,
   "id": "826d6ed2",
   "metadata": {},
   "outputs": [
    {
     "name": "stderr",
     "output_type": "stream",
     "text": [
      "201917it [02:01, 1656.96it/s]\n"
     ]
    }
   ],
   "source": [
    "lengths = []\n",
    "for f in tqdm.tqdm(record_path.iterdir()):\n",
    "    n = mapcount(f)\n",
    "    lengths.append(n)"
   ]
  },
  {
   "cell_type": "code",
   "execution_count": 60,
   "id": "dd6b84db",
   "metadata": {},
   "outputs": [
    {
     "data": {
      "text/plain": [
       "<AxesSubplot:ylabel='Count'>"
      ]
     },
     "execution_count": 60,
     "metadata": {},
     "output_type": "execute_result"
    },
    {
     "data": {
      "image/png": "[encoded data removed]",
      "text/plain": [
       "<Figure size 432x288 with 1 Axes>"
      ]
     },
     "metadata": {
      "needs_background": "light"
     },
     "output_type": "display_data"
    }
   ],
   "source": [
    "lengths = np.array(lengths)\n",
    "sns.histplot(lengths)"
   ]
  },
  {
   "cell_type": "markdown",
   "id": "9dbda9e6",
   "metadata": {},
   "source": [
    "Save info files."
   ]
  },
  {
   "cell_type": "code",
   "execution_count": 65,
   "id": "75852c0c",
   "metadata": {},
   "outputs": [],
   "source": [
    "lines = [name + ',' + ','.join([str(x) for x in cats]) for name, cats in zip(cat_cols, categories)]\n",
    "lines.append('new,N,Y')\n",
    "with open(path / 'categories.txt', 'w') as fh:\n",
    "    fh.write('\\n'.join(lines))"
   ]
  },
  {
   "cell_type": "code",
   "execution_count": 81,
   "id": "be518a64",
   "metadata": {},
   "outputs": [],
   "source": [
    "lines = [['purchase_amount', 'num', ''], ['purchase_date', 'num', '']] + [[col, 'cat', len(vocab)+1] for col, vocab in zip(cat_cols, categories)]\n",
    "lines.append(['new', 'cat', 2])\n",
    "df_info = pd.DataFrame(lines)\n",
    "df_info.to_csv(path / 'info.csv', header=None, index=False)"
   ]
  },
  {
   "cell_type": "code",
   "execution_count": 82,
   "id": "490aa11c",
   "metadata": {},
   "outputs": [
    {
     "data": {
      "text/html": [
       "<div>\n",
       "<style scoped>\n",
       "    .dataframe tbody tr th:only-of-type {\n",
       "        vertical-align: middle;\n",
       "    }\n",
       "\n",
       "    .dataframe tbody tr th {\n",
       "        vertical-align: top;\n",
       "    }\n",
       "\n",
       "    .dataframe thead th {\n",
       "        text-align: right;\n",
       "    }\n",
       "</style>\n",
       "<table border=\"1\" class=\"dataframe\">\n",
       "  <thead>\n",
       "    <tr style=\"text-align: right;\">\n",
       "      <th></th>\n",
       "      <th>0</th>\n",
       "      <th>1</th>\n",
       "      <th>2</th>\n",
       "    </tr>\n",
       "  </thead>\n",
       "  <tbody>\n",
       "    <tr>\n",
       "      <th>0</th>\n",
       "      <td>purchase_amount</td>\n",
       "      <td>num</td>\n",
       "      <td></td>\n",
       "    </tr>\n",
       "    <tr>\n",
       "      <th>1</th>\n",
       "      <td>purchase_date</td>\n",
       "      <td>num</td>\n",
       "      <td></td>\n",
       "    </tr>\n",
       "    <tr>\n",
       "      <th>2</th>\n",
       "      <td>authorized_flag</td>\n",
       "      <td>cat</td>\n",
       "      <td>3</td>\n",
       "    </tr>\n",
       "    <tr>\n",
       "      <th>3</th>\n",
       "      <td>city_id</td>\n",
       "      <td>cat</td>\n",
       "      <td>11</td>\n",
       "    </tr>\n",
       "    <tr>\n",
       "      <th>4</th>\n",
       "      <td>category_1</td>\n",
       "      <td>cat</td>\n",
       "      <td>3</td>\n",
       "    </tr>\n",
       "  </tbody>\n",
       "</table>\n",
       "</div>"
      ],
      "text/plain": [
       "                 0    1   2\n",
       "0  purchase_amount  num    \n",
       "1    purchase_date  num    \n",
       "2  authorized_flag  cat   3\n",
       "3          city_id  cat  11\n",
       "4       category_1  cat   3"
      ]
     },
     "execution_count": 82,
     "metadata": {},
     "output_type": "execute_result"
    }
   ],
   "source": [
    "df_info.head()"
   ]
  },
  {
   "cell_type": "markdown",
   "id": "cda78d0e",
   "metadata": {},
   "source": [
    "Save ground truth"
   ]
  },
  {
   "cell_type": "code",
   "execution_count": 93,
   "id": "5a527271",
   "metadata": {},
   "outputs": [],
   "source": [
    "label_df = df_card[['card_id', 'target']][df_card.card_id.isin(valid_ids)]"
   ]
  },
  {
   "cell_type": "code",
   "execution_count": 94,
   "id": "579324ca",
   "metadata": {},
   "outputs": [],
   "source": [
    "label_df.to_csv(path / 'groundtruth_raw.csv', header=None, index=False)"
   ]
  },
  {
   "cell_type": "code",
   "execution_count": 95,
   "id": "694b04f8",
   "metadata": {},
   "outputs": [],
   "source": [
    "label_df.target = (label_df.target > 0).astype(int)"
   ]
  },
  {
   "cell_type": "code",
   "execution_count": 96,
   "id": "c7a592da",
   "metadata": {},
   "outputs": [],
   "source": [
    "label_df.to_csv(path / 'groundtruth.csv', header=None, index=False)"
   ]
  },
  {
   "cell_type": "code",
   "execution_count": 97,
   "id": "f8829a7e",
   "metadata": {},
   "outputs": [
    {
     "name": "stdout",
     "output_type": "stream",
     "text": [
      "0.48341150076516587\n"
     ]
    }
   ],
   "source": [
    "print(label_df.target.mean())"
   ]
  }
 ],
 "metadata": {
  "kernelspec": {
   "display_name": "Python 3 (ipykernel)",
   "language": "python",
   "name": "python3"
  },
  "language_info": {
   "codemirror_mode": {
    "name": "ipython",
    "version": 3
   },
   "file_extension": ".py",
   "mimetype": "text/x-python",
   "name": "python",
   "nbconvert_exporter": "python",
   "pygments_lexer": "ipython3",
   "version": "3.8.8"
  }
 },
 "nbformat": 4,
 "nbformat_minor": 5
}
